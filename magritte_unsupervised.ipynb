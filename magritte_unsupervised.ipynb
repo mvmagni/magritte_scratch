{
 "cells": [
  {
   "cell_type": "markdown",
   "id": "203bd08b-d308-4088-98e2-2a3a1084bafb",
   "metadata": {},
   "source": [
    "# Magritte - inclusion of unsupervised scratch book\n",
    "<p>Notebook used for working on features to include unsupervised into magritte pipeline\n",
    "</p>"
   ]
  },
  {
   "cell_type": "markdown",
   "id": "2f1d9624-8f40-4e12-a09f-bfdf20e4f45b",
   "metadata": {
    "id": "1QZKvJBJ7rlc",
    "tags": []
   },
   "source": [
    "# Initialize environment\n",
    "\n",
    "When doing magritte dev work, I am currently using two repos:\n",
    "- magritte (for core code changes)\n",
    "- magritte scratch (for scratch notebooks for development work)\n",
    "\n",
    "Configs below are setup so that you checkout both repos in parallel directories\n",
    "    "
   ]
  },
  {
   "cell_type": "code",
   "execution_count": 1,
   "id": "9fb462b6-b6f1-4954-9c3e-d36e3562353e",
   "metadata": {
    "colab": {
     "base_uri": "https://localhost:8080/"
    },
    "executionInfo": {
     "elapsed": 19195,
     "status": "ok",
     "timestamp": 1639849489183,
     "user": {
      "displayName": "Michael Vasiliou",
      "photoUrl": "https://lh3.googleusercontent.com/a/default-user=s64",
      "userId": "07079983815732559270"
     },
     "user_tz": 300
    },
    "id": "jgMPxKZBzfFw",
    "outputId": "ae39cdc2-271b-4bdf-a71b-40f4a11dc389"
   },
   "outputs": [],
   "source": [
    "import sys\n",
    "import os\n",
    "\n",
    "MAGRITTE_SCRATCH_DIR = f'{os.getcwd()}' # assume notebook is in root of magritte scratch dir\n",
    "MAGRITTE_DIR = f'{os.getcwd()}/../magritte'\n",
    "UTILITIES_DIR = f'{MAGRITTE_DIR}/utilities'\n",
    "DEMO_DATA_DIR = f'{MAGRITTE_DIR}/data'\n",
    "DEMO_DATA_FILE = f'{DEMO_DATA_DIR}/IMDB Dataset.csv.gz'\n",
    "\n",
    "# Add the UTILITY_DIR to the path to import files\n",
    "sys.path.append(UTILITIES_DIR)"
   ]
  },
  {
   "cell_type": "code",
   "execution_count": 2,
   "id": "7acebed1-da05-4a5f-953b-f7a0d2f08197",
   "metadata": {},
   "outputs": [],
   "source": [
    "import pandas as pd\n",
    "import numpy as np"
   ]
  },
  {
   "cell_type": "markdown",
   "id": "182716fd-c93a-4957-9723-d22b0be9ab28",
   "metadata": {},
   "source": [
    "# Load Data\n",
    "<p>Loading the IMDB Dataset<br>\n",
    "50,000 records on pos/neg sentiment analysis<br>\n",
    "25,000 records per class<br>"
   ]
  },
  {
   "cell_type": "code",
   "execution_count": 3,
   "id": "5a1f11cc-d448-4950-88fd-b082f52d494d",
   "metadata": {},
   "outputs": [
    {
     "name": "stdout",
     "output_type": "stream",
     "text": [
      "Data shape: (50000, 2)\n"
     ]
    },
    {
     "data": {
      "text/html": [
       "<div>\n",
       "<style scoped>\n",
       "    .dataframe tbody tr th:only-of-type {\n",
       "        vertical-align: middle;\n",
       "    }\n",
       "\n",
       "    .dataframe tbody tr th {\n",
       "        vertical-align: top;\n",
       "    }\n",
       "\n",
       "    .dataframe thead th {\n",
       "        text-align: right;\n",
       "    }\n",
       "</style>\n",
       "<table border=\"1\" class=\"dataframe\">\n",
       "  <thead>\n",
       "    <tr style=\"text-align: right;\">\n",
       "      <th></th>\n",
       "      <th>review</th>\n",
       "      <th>sentiment</th>\n",
       "    </tr>\n",
       "  </thead>\n",
       "  <tbody>\n",
       "    <tr>\n",
       "      <th>0</th>\n",
       "      <td>One of the other reviewers has mentioned that ...</td>\n",
       "      <td>1</td>\n",
       "    </tr>\n",
       "    <tr>\n",
       "      <th>1</th>\n",
       "      <td>A wonderful little production. &lt;br /&gt;&lt;br /&gt;The...</td>\n",
       "      <td>1</td>\n",
       "    </tr>\n",
       "    <tr>\n",
       "      <th>2</th>\n",
       "      <td>I thought this was a wonderful way to spend ti...</td>\n",
       "      <td>1</td>\n",
       "    </tr>\n",
       "    <tr>\n",
       "      <th>3</th>\n",
       "      <td>Basically there's a family where a little boy ...</td>\n",
       "      <td>0</td>\n",
       "    </tr>\n",
       "    <tr>\n",
       "      <th>4</th>\n",
       "      <td>Petter Mattei's \"Love in the Time of Money\" is...</td>\n",
       "      <td>1</td>\n",
       "    </tr>\n",
       "  </tbody>\n",
       "</table>\n",
       "</div>"
      ],
      "text/plain": [
       "                                              review  sentiment\n",
       "0  One of the other reviewers has mentioned that ...          1\n",
       "1  A wonderful little production. <br /><br />The...          1\n",
       "2  I thought this was a wonderful way to spend ti...          1\n",
       "3  Basically there's a family where a little boy ...          0\n",
       "4  Petter Mattei's \"Love in the Time of Money\" is...          1"
      ]
     },
     "metadata": {},
     "output_type": "display_data"
    }
   ],
   "source": [
    "# Loading the IMDB Dataset\n",
    "ORIG_DF = pd.read_csv(DEMO_DATA_FILE, compression='gzip')\n",
    "\n",
    "# Changing target column from string to 0,1. Label encoding not yet included in framework\n",
    "ORIG_DF['sentiment'] = np.where(ORIG_DF['sentiment']=='positive', 1, 0)\n",
    "\n",
    "print(f'Data shape: {ORIG_DF.shape}')\n",
    "display(ORIG_DF.head())"
   ]
  },
  {
   "cell_type": "code",
   "execution_count": 4,
   "id": "0e10abcd-6581-40c1-88c9-9447db7e55e9",
   "metadata": {},
   "outputs": [],
   "source": [
    "# Setting up variables for later usage in DataPackage\n",
    "DATA_COLUMN = 'review'\n",
    "TARGET_COLUMN = 'sentiment'\n",
    "UNIQUE_COLUMN = None   # Unique index column. If None, one will be created"
   ]
  },
  {
   "cell_type": "markdown",
   "id": "a98c0618-99ff-4c53-b80e-b5e0713dc1c3",
   "metadata": {
    "tags": []
   },
   "source": [
    "# DataPackageParams\n",
    "<p>#TODO: Needs description of what DataPackageParams is</p>"
   ]
  },
  {
   "cell_type": "code",
   "execution_count": 5,
   "id": "530013a0-b12d-4aa8-9ae2-40f727a9dbf0",
   "metadata": {},
   "outputs": [],
   "source": [
    "# DataPackageParams are optional. Can do it manually or store and save the params for re-run\n",
    "from DataPackage import DataPackageParams\n",
    "myDPP = DataPackageParams(\n",
    "                    process_params=False, # True=run all data cleanup/setup on load\n",
    "                    \n",
    "                    # Class Balance\n",
    "                    sample_size = None, # Can be set to an absolute value. None means undersample to smallest\n",
    "                                        \n",
    "                    # Text Cleaning Params\n",
    "                    fix_unicode=True,  # fix various unicode errors\n",
    "                    to_ascii=True,  # transliterate to closest ASCII representation\n",
    "                    lower=True,  # lowercase text\n",
    "                    no_line_breaks=False,  # fully strip line breaks as opposed to only normalizing them\n",
    "                    no_urls=False,  # replace all URLs with a special token\n",
    "                    no_emails=False,  # replace all email addresses with a special token\n",
    "                    no_phone_numbers=False,  # replace all phone numbers with a special token\n",
    "                    no_numbers=True,  # replace all numbers with a special token\n",
    "                    no_digits=True,  # replace all digits with a special token\n",
    "                    no_currency_symbols=False,  # replace all currency symbols with a special token\n",
    "                    no_punct=False,  # remove punctuations\n",
    "                    replace_with_punct=\"\",  # instead of removing punctuations you may replace them\n",
    "                    replace_with_url=\"<URL>\",\n",
    "                    replace_with_email=\"<EMAIL>\",\n",
    "                    replace_with_phone_number=\"<PHONE>\",\n",
    "                    replace_with_number=\"\",\n",
    "                    replace_with_digit=\"\",\n",
    "                    replace_with_currency_symbol=\"<CUR>\",\n",
    "                    lang=\"en\",  # set to 'de' for German special handling\n",
    "\n",
    "                    # Remove stopwords\n",
    "                    remove_stopwords=True, # Removes stopwords\n",
    "                    stopword_language='english',\n",
    "        \n",
    "                    # train test split params\n",
    "                    stratifyColumn=None, # If None will be autoset to target_column in DataPackage\n",
    "                    train_size=0.8, # Can be percent or absolute number\n",
    "                    random_state=765,\n",
    "                    shuffle=True,\n",
    "\n",
    "                    # Encoding params\n",
    "                    encoding_type='TFIDF', # Currently only supports TFIDF encoding, TBA: BERT, GLOVE, Word2Vec\n",
    "                    max_features=100 # Currently only used in TFIDF\n",
    "                    )"
   ]
  },
  {
   "cell_type": "markdown",
   "id": "65208e7a-c1cd-4e99-a934-7dcf58b5a2ac",
   "metadata": {},
   "source": [
    "# Data Package\n",
    "<p>#TODO: Needs description of what this file is</p>"
   ]
  },
  {
   "cell_type": "code",
   "execution_count": 6,
   "id": "061d00f5-0fee-4c66-a208-b9ce44340103",
   "metadata": {},
   "outputs": [],
   "source": [
    "# Create the DataPackage\n",
    "from DataPackage import DataPackage\n",
    "myDP = DataPackage(original_data = ORIG_DF,\n",
    "                   data_column = DATA_COLUMN,\n",
    "                   target_column = TARGET_COLUMN,\n",
    "                   unique_column = UNIQUE_COLUMN,\n",
    "                   data_package_params = myDPP)"
   ]
  },
  {
   "cell_type": "code",
   "execution_count": null,
   "id": "c3c04abb-8426-41cd-910b-cae55c951eef",
   "metadata": {},
   "outputs": [],
   "source": []
  },
  {
   "cell_type": "markdown",
   "id": "149b58f9-13bc-4d67-a0ed-82e49645c6a7",
   "metadata": {
    "tags": []
   },
   "source": [
    "# Experiment Manager"
   ]
  },
  {
   "cell_type": "code",
   "execution_count": 7,
   "id": "b930a126-0d48-4c5f-bca2-235af5f2c7a4",
   "metadata": {},
   "outputs": [],
   "source": [
    "from ExperimentManager import ExperimentManager"
   ]
  },
  {
   "cell_type": "code",
   "execution_count": 8,
   "id": "fa6f5c5c-d687-46c5-852e-b50a82efa39b",
   "metadata": {},
   "outputs": [],
   "source": [
    "from xgboost import XGBClassifier\n",
    "untrained_model_1 = XGBClassifier(eval_metric='mlogloss', \n",
    "                           tree_method='gpu_hist',\n",
    "                           use_label_encoder=False,\n",
    "                           max_depth=5,\n",
    "                           n_estimators=100)"
   ]
  },
  {
   "cell_type": "code",
   "execution_count": 9,
   "id": "c0226298-ceea-43e1-9c0b-a25d28e28564",
   "metadata": {},
   "outputs": [
    {
     "name": "stdout",
     "output_type": "stream",
     "text": [
      "DataPackage summary\n",
      "Attributes:\n",
      "---> uniqueColumn: uuid\n",
      "---> dataColumn: review\n",
      "---> targetColumn: sentiment\n",
      "Original Data:\n",
      "---> original data shape: (50000, 3)\n",
      "Working Data:\n",
      "---> working data shape: (50000, 3)\n",
      "Process:\n",
      "---> isProcessed: False\n",
      "---> isCleaned: False\n",
      "---> isStopWorded: False\n",
      "---> isBalanced: False\n",
      "---> isEncoded: False\n",
      "---> isTrainTestSplit: False\n",
      "Data:\n",
      "---> isOrigDataLoaded: True\n",
      "---> isTrainDataLoaded: False\n",
      "---> isTestDataLoaded: False\n",
      "\n",
      "DataExperiment summary:\n",
      "---> projectName: NLPipe\n",
      "---> experimentName: XGB depth:5 est:100\n",
      "---> experimentMethod: supervised\n",
      "---> isDataPackageLoaded: True\n",
      "---> isProcessed: False\n",
      "---> isModelLoaded: False\n",
      "---> isModelPredicted: False\n",
      "---> isLearningCurveCreated: False\n",
      "---> isUntrainedModelLoaded: True\n",
      "XGBClassifier(base_score=None, booster=None, colsample_bylevel=None,\n",
      "              colsample_bynode=None, colsample_bytree=None,\n",
      "              enable_categorical=False, eval_metric='mlogloss', gamma=None,\n",
      "              gpu_id=None, importance_type=None, interaction_constraints=None,\n",
      "              learning_rate=None, max_delta_step=None, max_depth=5,\n",
      "              min_child_weight=None, missing=nan, monotone_constraints=None,\n",
      "              n_estimators=100, n_jobs=None, num_parallel_tree=None,\n",
      "              predictor=None, random_state=None, reg_alpha=None,\n",
      "              reg_lambda=None, scale_pos_weight=None, subsample=None,\n",
      "              tree_method='gpu_hist', use_label_encoder=False,\n",
      "              validate_parameters=None, verbosity=None)\n",
      "\n"
     ]
    }
   ],
   "source": [
    "myEM = ExperimentManager(project_name='NLPipe',\n",
    "                         experiment_name='XGB depth:5 est:100',\n",
    "                         experiment_method='supervised',\n",
    "                         untrained_model=untrained_model_1,\n",
    "                         data_package=myDP)\n",
    "\n",
    "                         "
   ]
  },
  {
   "cell_type": "code",
   "execution_count": 10,
   "id": "9fa1c0d1-7a8c-40ba-af75-0935b906d2ee",
   "metadata": {},
   "outputs": [
    {
     "name": "stdout",
     "output_type": "stream",
     "text": [
      "idx Processed Experiment name\n",
      "  0     False XGB depth:5 est:100\n"
     ]
    }
   ],
   "source": [
    "myEM.list_experiments()"
   ]
  },
  {
   "cell_type": "markdown",
   "id": "4e244ee3-cd70-4f09-8fde-e292e1d7c34b",
   "metadata": {
    "tags": []
   },
   "source": [
    "# ExperimentManager - add/list/remove"
   ]
  },
  {
   "cell_type": "code",
   "execution_count": 11,
   "id": "40c9dffe-eb0d-4a44-8ce8-0f3016f6dd15",
   "metadata": {},
   "outputs": [
    {
     "name": "stdout",
     "output_type": "stream",
     "text": [
      "DataExperiment summary:\n",
      "---> projectName: NLPipe\n",
      "---> experimentName: KMeans n=2\n",
      "---> experimentMethod: unsupervised\n",
      "---> isDataPackageLoaded: True\n",
      "---> isProcessed: False\n",
      "---> isModelLoaded: False\n",
      "---> isModelPredicted: False\n",
      "---> isLearningCurveCreated: False\n",
      "---> isUntrainedModelLoaded: True\n",
      "KMeans(n_clusters=2, random_state=765)\n",
      "\n"
     ]
    }
   ],
   "source": [
    "from sklearn.cluster import KMeans\n",
    "untrained_model_2 = KMeans(n_clusters=2, random_state=765)\n",
    "myEM.add_experiment(experiment_name='KMeans n=2',\n",
    "                    experiment_method='unsupervised',\n",
    "                    untrained_model=untrained_model_2)"
   ]
  },
  {
   "cell_type": "code",
   "execution_count": 12,
   "id": "8858885c-57ce-48f6-b362-5263e9d37fb2",
   "metadata": {},
   "outputs": [
    {
     "name": "stdout",
     "output_type": "stream",
     "text": [
      "idx Processed Experiment name\n",
      "  0     False XGB depth:5 est:100\n",
      "  1     False KMeans n=2\n"
     ]
    }
   ],
   "source": [
    "myEM.list_experiments()"
   ]
  },
  {
   "cell_type": "code",
   "execution_count": 13,
   "id": "2defb07d-21cd-49c4-b41f-8cef0330c8be",
   "metadata": {},
   "outputs": [
    {
     "name": "stdout",
     "output_type": "stream",
     "text": [
      "DataPackage summary\n",
      "Attributes:\n",
      "---> uniqueColumn: uuid\n",
      "---> dataColumn: review\n",
      "---> targetColumn: sentiment\n",
      "Original Data:\n",
      "---> original data shape: (50000, 3)\n",
      "Working Data:\n",
      "---> working data shape: (50000, 3)\n",
      "Process:\n",
      "---> isProcessed: False\n",
      "---> isCleaned: False\n",
      "---> isStopWorded: False\n",
      "---> isBalanced: False\n",
      "---> isEncoded: False\n",
      "---> isTrainTestSplit: False\n",
      "Data:\n",
      "---> isOrigDataLoaded: True\n",
      "---> isTrainDataLoaded: False\n",
      "---> isTestDataLoaded: False\n",
      "\n",
      "DataExperiment summary:\n",
      "---> projectName: NLPipe\n",
      "---> experimentName: XGB depth:5 est:100\n",
      "---> experimentMethod: supervised\n",
      "---> isDataPackageLoaded: True\n",
      "---> isProcessed: False\n",
      "---> isModelLoaded: False\n",
      "---> isModelPredicted: False\n",
      "---> isLearningCurveCreated: False\n",
      "---> isUntrainedModelLoaded: True\n",
      "XGBClassifier(base_score=None, booster=None, colsample_bylevel=None,\n",
      "              colsample_bynode=None, colsample_bytree=None,\n",
      "              enable_categorical=False, eval_metric='mlogloss', gamma=None,\n",
      "              gpu_id=None, importance_type=None, interaction_constraints=None,\n",
      "              learning_rate=None, max_delta_step=None, max_depth=5,\n",
      "              min_child_weight=None, missing=nan, monotone_constraints=None,\n",
      "              n_estimators=100, n_jobs=None, num_parallel_tree=None,\n",
      "              predictor=None, random_state=None, reg_alpha=None,\n",
      "              reg_lambda=None, scale_pos_weight=None, subsample=None,\n",
      "              tree_method='gpu_hist', use_label_encoder=False,\n",
      "              validate_parameters=None, verbosity=None)\n",
      "\n",
      "DataExperiment summary:\n",
      "---> projectName: NLPipe\n",
      "---> experimentName: KMeans n=2\n",
      "---> experimentMethod: unsupervised\n",
      "---> isDataPackageLoaded: True\n",
      "---> isProcessed: False\n",
      "---> isModelLoaded: False\n",
      "---> isModelPredicted: False\n",
      "---> isLearningCurveCreated: False\n",
      "---> isUntrainedModelLoaded: True\n",
      "KMeans(n_clusters=2, random_state=765)\n",
      "\n"
     ]
    }
   ],
   "source": [
    "myEM.display()"
   ]
  },
  {
   "cell_type": "markdown",
   "id": "a8c5decf-dd21-41ec-a448-a371558c06c0",
   "metadata": {},
   "source": [
    "# ExperimentManager - run_experiment"
   ]
  },
  {
   "cell_type": "code",
   "execution_count": 14,
   "id": "68ad76f4-f8f0-4047-92f1-75a9fcff80ce",
   "metadata": {},
   "outputs": [
    {
     "name": "stdout",
     "output_type": "stream",
     "text": [
      "idx Processed Experiment name\n",
      "  0     False XGB depth:5 est:100\n",
      "  1     False KMeans n=2\n"
     ]
    }
   ],
   "source": [
    "myEM.list_experiments()"
   ]
  },
  {
   "cell_type": "code",
   "execution_count": 15,
   "id": "49379289-f7dd-4505-924e-ee0fef562bf3",
   "metadata": {},
   "outputs": [
    {
     "name": "stdout",
     "output_type": "stream",
     "text": [
      "Data package has not been processed. Processing now.\n",
      "---------------------------------------------------------------------------\n",
      "DataPackage summary\n",
      "Attributes:\n",
      "---> uniqueColumn: uuid\n",
      "---> dataColumn: review\n",
      "---> targetColumn: sentiment\n",
      "Original Data:\n",
      "---> original data shape: (50000, 3)\n",
      "Working Data:\n",
      "---> working data shape: (50000, 3)\n",
      "Process:\n",
      "---> isProcessed: False\n",
      "---> isCleaned: False\n",
      "---> isStopWorded: False\n",
      "---> isBalanced: False\n",
      "---> isEncoded: False\n",
      "---> isTrainTestSplit: False\n",
      "Data:\n",
      "---> isOrigDataLoaded: True\n",
      "---> isTrainDataLoaded: False\n",
      "---> isTestDataLoaded: False\n",
      "\n",
      "Processing data package with provided parameters\n"
     ]
    },
    {
     "data": {
      "image/png": "[encoded data removed]",
      "text/plain": [
       "<Figure size 576x396 with 1 Axes>"
      ]
     },
     "metadata": {},
     "output_type": "display_data"
    },
    {
     "name": "stdout",
     "output_type": "stream",
     "text": [
      "Undersampling data to match min class: 0 of size: 25000\n"
     ]
    },
    {
     "data": {
      "image/png": "[encoded data removed]",
      "text/plain": [
       "<Figure size 576x396 with 1 Axes>"
      ]
     },
     "metadata": {},
     "output_type": "display_data"
    },
    {
     "data": {
      "text/html": [
       "<div>\n",
       "<style scoped>\n",
       "    .dataframe tbody tr th:only-of-type {\n",
       "        vertical-align: middle;\n",
       "    }\n",
       "\n",
       "    .dataframe tbody tr th {\n",
       "        vertical-align: top;\n",
       "    }\n",
       "\n",
       "    .dataframe thead th {\n",
       "        text-align: right;\n",
       "    }\n",
       "</style>\n",
       "<table border=\"1\" class=\"dataframe\">\n",
       "  <thead>\n",
       "    <tr style=\"text-align: right;\">\n",
       "      <th></th>\n",
       "      <th>sentiment</th>\n",
       "      <th>ttlCol</th>\n",
       "    </tr>\n",
       "  </thead>\n",
       "  <tbody>\n",
       "    <tr>\n",
       "      <th>0</th>\n",
       "      <td>0</td>\n",
       "      <td>25000</td>\n",
       "    </tr>\n",
       "    <tr>\n",
       "      <th>1</th>\n",
       "      <td>1</td>\n",
       "      <td>25000</td>\n",
       "    </tr>\n",
       "  </tbody>\n",
       "</table>\n",
       "</div>"
      ],
      "text/plain": [
       "   sentiment  ttlCol\n",
       "0          0   25000\n",
       "1          1   25000"
      ]
     },
     "metadata": {},
     "output_type": "display_data"
    },
    {
     "name": "stdout",
     "output_type": "stream",
     "text": [
      "Cleaning text column...\n"
     ]
    },
    {
     "name": "stderr",
     "output_type": "stream",
     "text": [
      "100%|███████████████████████████████████| 50000/50000 [00:21<00:00, 2332.23it/s]\n",
      "[nltk_data] Downloading package stopwords to /home/magni/nltk_data...\n",
      "[nltk_data]   Package stopwords is already up-to-date!\n"
     ]
    },
    {
     "name": "stdout",
     "output_type": "stream",
     "text": [
      "Removing stopwords...\n"
     ]
    },
    {
     "name": "stderr",
     "output_type": "stream",
     "text": [
      "100%|███████████████████████████████████| 50000/50000 [00:09<00:00, 5358.04it/s]\n"
     ]
    },
    {
     "name": "stdout",
     "output_type": "stream",
     "text": [
      "\n",
      "Encoding to TF-IDF with max_features=100\n",
      "Encoding completed. Feature list:\n",
      "['acting', 'actors', 'actually', 'all', 'also', 'and', 'another', 'around', 'back', 'bad', 'best', 'better', 'big', 'br', 'can', 'cast', 'character', 'characters', 'could', 'director', 'end', 'even', 'ever', 'every', 'film', 'films', 'find', 'first', 'funny', 'get', 'go', 'going', 'good', 'got', 'great', 'he', 'horror', 'however', 'in', 'it', 'know', 'life', 'like', 'little', 'look', 'lot', 'love', 'made', 'make', 'makes', 'man', 'many', 'movie', 'movies', 'much', 'never', 'new', 'nothing', 'old', 'one', 'part', 'people', 'plot', 'pretty', 'quite', 'real', 'really', 'say', 'scene', 'scenes', 'see', 'seems', 'seen', 'show', 'something', 'still', 'story', 'take', 'that', 'the', 'there', 'thing', 'things', 'think', 'this', 'though', 'time', 'two', 'us', 've', 'want', 'watch', 'watching', 'way', 'well', 'work', 'world', 'would', 'years', 'young']\n",
      "\n",
      "Completed train/test split (train_size = 0.8):\n",
      "---> Original data size: 50000\n",
      "---> Training data size: 40000\n",
      "---> Testing data size: 10000\n",
      "---> Stratified on column: sentiment\n",
      "\n",
      "Processing data package has been completed\n",
      "\n",
      "DataPackage summary\n",
      "Attributes:\n",
      "---> uniqueColumn: uuid\n",
      "---> dataColumn: review\n",
      "---> targetColumn: sentiment\n",
      "Original Data:\n",
      "---> original data shape: (50000, 3)\n",
      "Working Data:\n",
      "---> working data shape: (50000, 102)\n",
      "Process:\n",
      "---> isProcessed: True\n",
      "---> isCleaned: True\n",
      "---> isStopWorded: True\n",
      "---> isBalanced: True\n",
      "---> isEncoded: True\n",
      "---> isTrainTestSplit: True\n",
      "Data:\n",
      "---> isOrigDataLoaded: True\n",
      "---> isTrainDataLoaded: True\n",
      "---> isTestDataLoaded: True\n",
      "\n",
      "===========================================================================\n",
      "\n",
      "\n",
      "---------------------------------------------------------------------------\n",
      "Processing experiment: [0] XGB depth:5 est:100\n",
      "\n",
      "Training model for XGB depth:5 est:100. Completed. Wall time[h:m:s]: 00:00:00\n",
      "Predicting model for XGB depth:5 est:100. Completed. Wall time[h:m:s]: 00:00:00\n",
      "\n",
      "Model Stats:\n"
     ]
    },
    {
     "data": {
      "image/png": "[encoded data removed]",
      "text/plain": [
       "<Figure size 527.25x432 with 1 Axes>"
      ]
     },
     "metadata": {},
     "output_type": "display_data"
    },
    {
     "name": "stdout",
     "output_type": "stream",
     "text": [
      "            Experiment  Accuracy  Precision  Recall  F1 Score  Cohen kappa\n",
      "0  XGB depth:5 est:100      0.74       0.74    0.74      0.74         0.47\n",
      "\n",
      "\n",
      "Completed. Wall time[h:m:s]: 00:00:00\n",
      "===========================================================================\n",
      "\n",
      "\n",
      "---------------------------------------------------------------------------\n",
      "Processing experiment: [1] KMeans n=2\n",
      "\n",
      "Training model for KMeans n=2. Completed. Wall time[h:m:s]: 00:00:01\n",
      "Predicting model for KMeans n=2. Completed. Wall time[h:m:s]: 00:00:00\n",
      "\n",
      "Model Stats:\n"
     ]
    },
    {
     "data": {
      "image/png": "[encoded data removed]",
      "text/plain": [
       "<Figure size 527.25x432 with 1 Axes>"
      ]
     },
     "metadata": {},
     "output_type": "display_data"
    },
    {
     "name": "stdout",
     "output_type": "stream",
     "text": [
      "   Experiment  Accuracy  Precision  Recall  F1 Score  Cohen kappa\n",
      "0  KMeans n=2       0.5        0.5     0.5       0.5         -0.0\n",
      "\n",
      "\n",
      "Completed. Wall time[h:m:s]: 00:00:01\n",
      "===========================================================================\n",
      "\n",
      "\n",
      "Processing complete. Displaying model comparison\n"
     ]
    },
    {
     "data": {
      "image/png": "[encoded data removed]",
      "text/plain": [
       "<Figure size 527.25x432 with 1 Axes>"
      ]
     },
     "metadata": {},
     "output_type": "display_data"
    },
    {
     "name": "stdout",
     "output_type": "stream",
     "text": [
      "            Experiment  Accuracy  Precision  Recall  F1 Score  Cohen kappa\n",
      "0  XGB depth:5 est:100      0.74       0.74    0.74      0.74         0.47\n",
      "1           KMeans n=2      0.50       0.50    0.50      0.50        -0.00\n",
      "\n",
      "Processing experiments complete. Wall time[h:m:s]: 00:00:36\n"
     ]
    }
   ],
   "source": [
    "axis_labels = [0,1] #This won't be needed once the label encoder has been included\n",
    "myEM.run_experiment(axis_labels=axis_labels,\n",
    "                    n_jobs=-1,  # -1 means use all available processors, otherwise include number\n",
    "                    index=None) # index=None means process all experiements, \n",
    "                                # otherwise provide index of single experiment to run"
   ]
  },
  {
   "cell_type": "code",
   "execution_count": null,
   "id": "7c9d6988-bcde-4ed7-9c49-c4398213d7b3",
   "metadata": {},
   "outputs": [],
   "source": []
  },
  {
   "cell_type": "code",
   "execution_count": null,
   "id": "e3082364-f217-4359-b1cc-c9199f08c1a5",
   "metadata": {},
   "outputs": [],
   "source": []
  },
  {
   "cell_type": "code",
   "execution_count": null,
   "id": "2391a8c7-826c-41f9-a76a-e648237bb400",
   "metadata": {},
   "outputs": [],
   "source": []
  },
  {
   "cell_type": "code",
   "execution_count": null,
   "id": "de8e6ba7-c41e-4209-8ab9-48624d939728",
   "metadata": {},
   "outputs": [],
   "source": []
  },
  {
   "cell_type": "markdown",
   "id": "4323b8b3-e747-4547-a589-bd0ef874584f",
   "metadata": {},
   "source": [
    "# Scratchpad"
   ]
  },
  {
   "cell_type": "code",
   "execution_count": null,
   "id": "4707b335-1270-4767-94f0-ab71e10c3095",
   "metadata": {},
   "outputs": [],
   "source": [
    "myEM.display_experiment_summary(index=1, axisLabels=axis_labels)"
   ]
  },
  {
   "cell_type": "code",
   "execution_count": null,
   "id": "a2bab6e7-e297-4edb-a203-a2f270707d7a",
   "metadata": {},
   "outputs": [],
   "source": []
  },
  {
   "cell_type": "code",
   "execution_count": null,
   "id": "cf0ec0ea-a055-4779-b038-e2aa137bcb2a",
   "metadata": {},
   "outputs": [],
   "source": []
  },
  {
   "cell_type": "code",
   "execution_count": null,
   "id": "84bf2754-0047-46cd-98fc-cb5c336d44ba",
   "metadata": {},
   "outputs": [],
   "source": []
  },
  {
   "cell_type": "code",
   "execution_count": null,
   "id": "c62179f9-66d0-487f-b530-89db384efdaa",
   "metadata": {},
   "outputs": [],
   "source": []
  },
  {
   "cell_type": "code",
   "execution_count": null,
   "id": "0804575b-6bd3-475f-9f71-ab95a90d1855",
   "metadata": {},
   "outputs": [],
   "source": []
  },
  {
   "cell_type": "code",
   "execution_count": null,
   "id": "7b810b60-9547-4c8e-9bf0-d8cf1ec8ebc2",
   "metadata": {},
   "outputs": [],
   "source": [
    "\n"
   ]
  },
  {
   "cell_type": "code",
   "execution_count": null,
   "id": "9de63b5c-f424-4830-b3af-49c9dc428419",
   "metadata": {},
   "outputs": [],
   "source": []
  },
  {
   "cell_type": "code",
   "execution_count": null,
   "id": "b6c087df-d7eb-40a3-89c4-e45d6ef6d01c",
   "metadata": {},
   "outputs": [],
   "source": []
  },
  {
   "cell_type": "code",
   "execution_count": null,
   "id": "a613509f-25d3-4900-ba11-07b47f22093c",
   "metadata": {},
   "outputs": [],
   "source": []
  },
  {
   "cell_type": "code",
   "execution_count": null,
   "id": "e98c674b-e1e0-41a1-84d1-eb060ded8105",
   "metadata": {},
   "outputs": [],
   "source": []
  },
  {
   "cell_type": "code",
   "execution_count": null,
   "id": "d13a1ca5-267b-437d-8928-71b98097bde9",
   "metadata": {},
   "outputs": [],
   "source": []
  },
  {
   "cell_type": "code",
   "execution_count": null,
   "id": "a5cb08d4-fea3-4a9d-82f4-2da72df9a8bb",
   "metadata": {},
   "outputs": [],
   "source": []
  },
  {
   "cell_type": "code",
   "execution_count": null,
   "id": "a6fef4b5-bbf0-4945-bede-bce91c4dafff",
   "metadata": {},
   "outputs": [],
   "source": []
  },
  {
   "cell_type": "code",
   "execution_count": null,
   "id": "73a2bd83-6088-42d5-a976-2bacee72b777",
   "metadata": {},
   "outputs": [],
   "source": [
    "def check_input(testInput):\n",
    "    valid_methods = ['supervised', 'unsupervised']\n",
    "    isOk = False\n",
    "    e_message = ''\n",
    "\n",
    "    for x in valid_methods:\n",
    "        if x == testInput:\n",
    "            isOk = True\n",
    "\n",
    "        if not isOk:\n",
    "            e_message = f'Invalid method submitted.'\n",
    "\n",
    "    try:\n",
    "        assert(isOk is True)\n",
    "    except AssertionError as e:\n",
    "        e.args += (e_message, f'Use: {\", \".join(valid_methods)}')\n",
    "        raise"
   ]
  },
  {
   "cell_type": "code",
   "execution_count": null,
   "id": "38be94b4-8d54-450d-88ea-385a37ad08a4",
   "metadata": {},
   "outputs": [],
   "source": [
    "check_input('supervised')"
   ]
  },
  {
   "cell_type": "code",
   "execution_count": null,
   "id": "878ac0e5-c691-402a-86d8-b587b0c528f0",
   "metadata": {},
   "outputs": [],
   "source": []
  },
  {
   "cell_type": "code",
   "execution_count": null,
   "id": "69bf2be3-fbd9-4d1c-9596-d295eed68ee7",
   "metadata": {},
   "outputs": [],
   "source": []
  },
  {
   "cell_type": "code",
   "execution_count": null,
   "id": "dc4ec3cd-7d2b-4cfb-9484-877050387036",
   "metadata": {},
   "outputs": [],
   "source": [
    "import warnings \n",
    "warnings.filterwarnings(\"ignore\")"
   ]
  },
  {
   "cell_type": "code",
   "execution_count": null,
   "id": "8cba0484-ab00-4b6d-a1f0-6b9e334612ef",
   "metadata": {},
   "outputs": [],
   "source": [
    "import seaborn as sns\n",
    "import matplotlib.pyplot as plt"
   ]
  },
  {
   "cell_type": "code",
   "execution_count": null,
   "id": "0e6b3e41-1cb8-442e-a61a-a82e8f134669",
   "metadata": {},
   "outputs": [],
   "source": [
    "id_var, value_vars, df = myEM.experiments[1].getModelStats_Frame(exp_label='test label')"
   ]
  },
  {
   "cell_type": "code",
   "execution_count": null,
   "id": "7b4541e7-5579-4883-8ba0-225990b09bc8",
   "metadata": {},
   "outputs": [],
   "source": [
    "def show_model_summary(data_frame,\n",
    "                       id_var,\n",
    "                       value_vars):\n",
    "    value_name = 'value_name'\n",
    "    var_name = 'Metric'\n",
    "\n",
    "    tDF = pd.melt(data_frame,\n",
    "                  id_vars=id_var,\n",
    "                  value_vars=value_vars,\n",
    "                  var_name=var_name,\n",
    "                  value_name=value_name\n",
    "                  )\n",
    "\n",
    "    plt.close();\n",
    "    \n",
    "    #plt.figure(figsize=(10, 10) )\n",
    "    #fig, ax = plt.subplots(figsize=(10,10))\n",
    "    gfg = sns.catplot(x=id_var,\n",
    "                       y=value_name,\n",
    "                       hue=var_name,\n",
    "                       data=tDF,\n",
    "                       kind='bar',\n",
    "                       height=6,\n",
    "                       aspect=1) \n",
    "    \n",
    "  \n",
    "    gfg.set(ylim=(0, 1))\n",
    "    gfg.set( xlabel = \"Experiment\", ylabel = \"Metric Value\", title='Model Comparison')\n",
    "    plt.show()\n",
    "    \n",
    "    print(data_frame.head())\n"
   ]
  },
  {
   "cell_type": "code",
   "execution_count": null,
   "id": "4651d1c9-8f1b-4012-bb54-b1128c84c45e",
   "metadata": {},
   "outputs": [],
   "source": [
    "show_model_summary(data_frame=df,\n",
    "                   id_var=id_var,\n",
    "                   value_vars=value_vars)"
   ]
  },
  {
   "cell_type": "code",
   "execution_count": null,
   "id": "3aa9ec30-8feb-4149-a044-d197b0e7d284",
   "metadata": {},
   "outputs": [],
   "source": []
  },
  {
   "cell_type": "code",
   "execution_count": null,
   "id": "c021b276-dfc1-4ea7-81c8-eea3f694e18e",
   "metadata": {},
   "outputs": [],
   "source": []
  },
  {
   "cell_type": "code",
   "execution_count": null,
   "id": "0a2a05a9-d04b-4231-a696-a5d971c121f3",
   "metadata": {},
   "outputs": [],
   "source": [
    "sns.set_style(\"whitegrid\")\n",
    " \n",
    "# assign dataset\n",
    "tips = sns.load_dataset(\"tips\")\n",
    " \n",
    "# depict visualization\n",
    "gfg = sns.boxplot(x=\"day\", y=\"total_bill\",\n",
    "                  data=tips)\n",
    "_ = gfg.set_ylim(0, 80)"
   ]
  },
  {
   "cell_type": "code",
   "execution_count": null,
   "id": "3a1163b3-1ef2-46f3-bac3-a74432bfe117",
   "metadata": {},
   "outputs": [],
   "source": []
  },
  {
   "cell_type": "code",
   "execution_count": null,
   "id": "64803191-f3ba-4f19-acf6-fc29dc668017",
   "metadata": {},
   "outputs": [],
   "source": []
  },
  {
   "cell_type": "code",
   "execution_count": null,
   "id": "7eebf53a-206a-4ba2-bdc1-85946cd121ae",
   "metadata": {},
   "outputs": [],
   "source": [
    "import time\n",
    "time.strftime('%H:%M:%S', time.gmtime(60))\n"
   ]
  }
 ],
 "metadata": {
  "kernelspec": {
   "display_name": "ML1010_env2",
   "language": "python",
   "name": "ml1010_env2"
  },
  "language_info": {
   "codemirror_mode": {
    "name": "ipython",
    "version": 3
   },
   "file_extension": ".py",
   "mimetype": "text/x-python",
   "name": "python",
   "nbconvert_exporter": "python",
   "pygments_lexer": "ipython3",
   "version": "3.7.13"
  }
 },
 "nbformat": 4,
 "nbformat_minor": 5
}
