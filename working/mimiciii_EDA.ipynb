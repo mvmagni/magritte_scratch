{
 "cells": [
  {
   "cell_type": "markdown",
   "id": "203bd08b-d308-4088-98e2-2a3a1084bafb",
   "metadata": {},
   "source": [
    "# Magritte - MIMIC-III EDA\n",
    "<p>Notebook used for working on features to include into magritte pipeline\n",
    "    dataset location\n",
    "    wget -r -N -c -np --user [username] --ask-password https://physionet.org/files/mimiciii/1.4/\n",
    "</p>"
   ]
  },
  {
   "cell_type": "markdown",
   "id": "2f1d9624-8f40-4e12-a09f-bfdf20e4f45b",
   "metadata": {
    "id": "1QZKvJBJ7rlc",
    "tags": []
   },
   "source": [
    "# Initialize environment\n",
    "\n",
    "When doing magritte dev work, I am currently using two repos:\n",
    "- magritte (for core code changes)\n",
    "- magritte scratch (for scratch notebooks for development work)\n",
    "\n",
    "Configs below are setup so that you checkout both repos in parallel directories\n",
    "    "
   ]
  },
  {
   "cell_type": "code",
   "execution_count": 1,
   "id": "9fb462b6-b6f1-4954-9c3e-d36e3562353e",
   "metadata": {
    "colab": {
     "base_uri": "https://localhost:8080/"
    },
    "executionInfo": {
     "elapsed": 19195,
     "status": "ok",
     "timestamp": 1639849489183,
     "user": {
      "displayName": "Michael Vasiliou",
      "photoUrl": "https://lh3.googleusercontent.com/a/default-user=s64",
      "userId": "07079983815732559270"
     },
     "user_tz": 300
    },
    "id": "jgMPxKZBzfFw",
    "outputId": "ae39cdc2-271b-4bdf-a71b-40f4a11dc389"
   },
   "outputs": [],
   "source": [
    "import sys\n",
    "import os\n",
    "\n",
    "MAGRITTE_SCRATCH_DIR = f'{os.getcwd()}' # assume notebook is in root of magritte scratch dir\n",
    "MAGRITTE_DIR = f'{MAGRITTE_SCRATCH_DIR}/../../magritte'\n",
    "UTILITIES_DIR = f'{MAGRITTE_DIR}/utilities'\n",
    "DEMO_DATA_DIR = f'{MAGRITTE_DIR}/data'\n",
    "DEMO_DATA_FILE = f'{DEMO_DATA_DIR}/IMDB Dataset.csv.gz'\n",
    "\n",
    "DATA_DIR = f'{MAGRITTE_DIR}/../data/mimiciii'\n",
    "\n",
    "# Add the UTILITY_DIR to the path to import files\n",
    "sys.path.append(UTILITIES_DIR)"
   ]
  },
  {
   "cell_type": "code",
   "execution_count": 2,
   "id": "7acebed1-da05-4a5f-953b-f7a0d2f08197",
   "metadata": {},
   "outputs": [],
   "source": [
    "import pandas as pd\n",
    "import DataUtils"
   ]
  },
  {
   "cell_type": "markdown",
   "id": "182716fd-c93a-4957-9723-d22b0be9ab28",
   "metadata": {},
   "source": [
    "# Load Data (MIMIC-III Dataset)"
   ]
  },
  {
   "cell_type": "code",
   "execution_count": 3,
   "id": "e6cbae24-83ae-47b7-95e5-1a11e1a8742d",
   "metadata": {},
   "outputs": [
    {
     "name": "stdout",
     "output_type": "stream",
     "text": [
      "CPU times: user 30.3 s, sys: 1.53 s, total: 31.8 s\n",
      "Wall time: 31.9 s\n"
     ]
    }
   ],
   "source": [
    "%%time\n",
    "# Loading three tables from MIMIC-III\n",
    "# 1) DIAGNOSES_ICD.csv.gz\n",
    "# 2) NOTEEVENTS.csv.gz\n",
    "# 3) D_ICD_DIAGNOSES.csv.gz\n",
    "\n",
    "diagnosisICD_DF = pd.read_csv(f'{DATA_DIR}/DIAGNOSES_ICD.csv.gz',\n",
    "                              dtype = {'ROW_ID': int, 'SUBJECT_ID':int, 'HADM_ID':int, 'SEQ_NUM':float, 'ICD9_CODE': str},\n",
    "                              compression='gzip'\n",
    "                             )\n",
    "\n",
    "\n",
    "DATE_COLS=['CHARTTIME','STORETIME', 'CHARTDATE']\n",
    "notesDF = pd.read_csv(f'{DATA_DIR}/NOTEEVENTS.csv.gz',\n",
    "                      parse_dates=DATE_COLS,\n",
    "                      compression='gzip'\n",
    "                     )\n",
    "\n",
    "D_ICDDiagnosis_DF = pd.read_csv(f'{DATA_DIR}/D_ICD_DIAGNOSES.csv.gz', compression='gzip')"
   ]
  },
  {
   "cell_type": "markdown",
   "id": "a53cbf67-8a3f-43b8-b305-74da04494fd3",
   "metadata": {
    "tags": []
   },
   "source": [
    "## DIAGNOSES_ICD.csv.gz summary"
   ]
  },
  {
   "cell_type": "code",
   "execution_count": 4,
   "id": "accc4e64-2f01-439b-ae08-3153aba7e813",
   "metadata": {},
   "outputs": [
    {
     "name": "stdout",
     "output_type": "stream",
     "text": [
      "dataframe shape: (651047, 5)\n",
      "\n",
      "dataframe info: \n",
      "<class 'pandas.core.frame.DataFrame'>\n",
      "RangeIndex: 651047 entries, 0 to 651046\n",
      "Data columns (total 5 columns):\n",
      " #   Column      Non-Null Count   Dtype  \n",
      "---  ------      --------------   -----  \n",
      " 0   ROW_ID      651047 non-null  int64  \n",
      " 1   SUBJECT_ID  651047 non-null  int64  \n",
      " 2   HADM_ID     651047 non-null  int64  \n",
      " 3   SEQ_NUM     651000 non-null  float64\n",
      " 4   ICD9_CODE   651000 non-null  object \n",
      "dtypes: float64(1), int64(3), object(1)\n",
      "memory usage: 24.8+ MB\n",
      "None\n",
      "\n",
      "First 5 in dataframe\n"
     ]
    },
    {
     "data": {
      "text/html": [
       "<div>\n",
       "<style scoped>\n",
       "    .dataframe tbody tr th:only-of-type {\n",
       "        vertical-align: middle;\n",
       "    }\n",
       "\n",
       "    .dataframe tbody tr th {\n",
       "        vertical-align: top;\n",
       "    }\n",
       "\n",
       "    .dataframe thead th {\n",
       "        text-align: right;\n",
       "    }\n",
       "</style>\n",
       "<table border=\"1\" class=\"dataframe\">\n",
       "  <thead>\n",
       "    <tr style=\"text-align: right;\">\n",
       "      <th></th>\n",
       "      <th>ROW_ID</th>\n",
       "      <th>SUBJECT_ID</th>\n",
       "      <th>HADM_ID</th>\n",
       "      <th>SEQ_NUM</th>\n",
       "      <th>ICD9_CODE</th>\n",
       "    </tr>\n",
       "  </thead>\n",
       "  <tbody>\n",
       "    <tr>\n",
       "      <th>0</th>\n",
       "      <td>1297</td>\n",
       "      <td>109</td>\n",
       "      <td>172335</td>\n",
       "      <td>1.0</td>\n",
       "      <td>40301</td>\n",
       "    </tr>\n",
       "    <tr>\n",
       "      <th>1</th>\n",
       "      <td>1298</td>\n",
       "      <td>109</td>\n",
       "      <td>172335</td>\n",
       "      <td>2.0</td>\n",
       "      <td>486</td>\n",
       "    </tr>\n",
       "    <tr>\n",
       "      <th>2</th>\n",
       "      <td>1299</td>\n",
       "      <td>109</td>\n",
       "      <td>172335</td>\n",
       "      <td>3.0</td>\n",
       "      <td>58281</td>\n",
       "    </tr>\n",
       "    <tr>\n",
       "      <th>3</th>\n",
       "      <td>1300</td>\n",
       "      <td>109</td>\n",
       "      <td>172335</td>\n",
       "      <td>4.0</td>\n",
       "      <td>5855</td>\n",
       "    </tr>\n",
       "    <tr>\n",
       "      <th>4</th>\n",
       "      <td>1301</td>\n",
       "      <td>109</td>\n",
       "      <td>172335</td>\n",
       "      <td>5.0</td>\n",
       "      <td>4254</td>\n",
       "    </tr>\n",
       "  </tbody>\n",
       "</table>\n",
       "</div>"
      ],
      "text/plain": [
       "   ROW_ID  SUBJECT_ID  HADM_ID  SEQ_NUM ICD9_CODE\n",
       "0    1297         109   172335      1.0     40301\n",
       "1    1298         109   172335      2.0       486\n",
       "2    1299         109   172335      3.0     58281\n",
       "3    1300         109   172335      4.0      5855\n",
       "4    1301         109   172335      5.0      4254"
      ]
     },
     "metadata": {},
     "output_type": "display_data"
    },
    {
     "name": "stdout",
     "output_type": "stream",
     "text": [
      "\n",
      "Last 5 in dataframe\n"
     ]
    },
    {
     "data": {
      "text/html": [
       "<div>\n",
       "<style scoped>\n",
       "    .dataframe tbody tr th:only-of-type {\n",
       "        vertical-align: middle;\n",
       "    }\n",
       "\n",
       "    .dataframe tbody tr th {\n",
       "        vertical-align: top;\n",
       "    }\n",
       "\n",
       "    .dataframe thead th {\n",
       "        text-align: right;\n",
       "    }\n",
       "</style>\n",
       "<table border=\"1\" class=\"dataframe\">\n",
       "  <thead>\n",
       "    <tr style=\"text-align: right;\">\n",
       "      <th></th>\n",
       "      <th>ROW_ID</th>\n",
       "      <th>SUBJECT_ID</th>\n",
       "      <th>HADM_ID</th>\n",
       "      <th>SEQ_NUM</th>\n",
       "      <th>ICD9_CODE</th>\n",
       "    </tr>\n",
       "  </thead>\n",
       "  <tbody>\n",
       "    <tr>\n",
       "      <th>651042</th>\n",
       "      <td>639798</td>\n",
       "      <td>97503</td>\n",
       "      <td>188195</td>\n",
       "      <td>2.0</td>\n",
       "      <td>20280</td>\n",
       "    </tr>\n",
       "    <tr>\n",
       "      <th>651043</th>\n",
       "      <td>639799</td>\n",
       "      <td>97503</td>\n",
       "      <td>188195</td>\n",
       "      <td>3.0</td>\n",
       "      <td>V5869</td>\n",
       "    </tr>\n",
       "    <tr>\n",
       "      <th>651044</th>\n",
       "      <td>639800</td>\n",
       "      <td>97503</td>\n",
       "      <td>188195</td>\n",
       "      <td>4.0</td>\n",
       "      <td>V1279</td>\n",
       "    </tr>\n",
       "    <tr>\n",
       "      <th>651045</th>\n",
       "      <td>639801</td>\n",
       "      <td>97503</td>\n",
       "      <td>188195</td>\n",
       "      <td>5.0</td>\n",
       "      <td>5275</td>\n",
       "    </tr>\n",
       "    <tr>\n",
       "      <th>651046</th>\n",
       "      <td>639802</td>\n",
       "      <td>97503</td>\n",
       "      <td>188195</td>\n",
       "      <td>6.0</td>\n",
       "      <td>5569</td>\n",
       "    </tr>\n",
       "  </tbody>\n",
       "</table>\n",
       "</div>"
      ],
      "text/plain": [
       "        ROW_ID  SUBJECT_ID  HADM_ID  SEQ_NUM ICD9_CODE\n",
       "651042  639798       97503   188195      2.0     20280\n",
       "651043  639799       97503   188195      3.0     V5869\n",
       "651044  639800       97503   188195      4.0     V1279\n",
       "651045  639801       97503   188195      5.0      5275\n",
       "651046  639802       97503   188195      6.0      5569"
      ]
     },
     "metadata": {},
     "output_type": "display_data"
    }
   ],
   "source": [
    "DataUtils.exploreDataframe(diagnosisICD_DF)"
   ]
  },
  {
   "cell_type": "code",
   "execution_count": 5,
   "id": "1d3d2f06-abab-462e-bd3d-3c9841bfb4c4",
   "metadata": {},
   "outputs": [
    {
     "name": "stdout",
     "output_type": "stream",
     "text": [
      "Data type of column [ICD9_CODE] is: object\n",
      "Total number of rows: 651047\n",
      "Unique values: 6985\n",
      "List of unique values:\n",
      "['40301' '486' '58281' ... 'E0070' '6940' '20930']\n",
      "\n",
      "Showing top 5 records for ICD9_CODE by frequency\n",
      "     ICD9_CODE  record_count\n",
      "1962      4019         20703\n",
      "2109      4280         13111\n",
      "2098     42731         12891\n",
      "2019     41401         12429\n",
      "2957      5849          9119\n",
      "\n",
      "Showing bottom 5 records for ICD9_CODE by frequency\n",
      "     ICD9_CODE  record_count\n",
      "6983     V9103             1\n",
      "6854      V562             1\n",
      "1336      3060             1\n",
      "202      07953             1\n",
      "1338      3062             1\n"
     ]
    }
   ],
   "source": [
    "DataUtils.showUniqueColVals(diagnosisICD_DF, 'ICD9_CODE')"
   ]
  },
  {
   "cell_type": "code",
   "execution_count": 6,
   "id": "b2909aa8-7a66-42ec-83c4-29ac0316af43",
   "metadata": {},
   "outputs": [
    {
     "data": {
      "text/plain": [
       "<module 'DataUtils' from '/home/magni/ML_Root/project_root/magritte_scratch/working/../../magritte/utilities/DataUtils.py'>"
      ]
     },
     "execution_count": 6,
     "metadata": {},
     "output_type": "execute_result"
    }
   ],
   "source": [
    "import importlib\n",
    "importlib.reload(DataUtils)"
   ]
  },
  {
   "cell_type": "code",
   "execution_count": null,
   "id": "8e972c51-007e-4a72-a306-0d603902ddb4",
   "metadata": {},
   "outputs": [],
   "source": []
  },
  {
   "cell_type": "markdown",
   "id": "8489fa27-3553-4258-a21d-30168535f80d",
   "metadata": {
    "tags": []
   },
   "source": [
    "## NOTEEVENTS.csv.gz summary"
   ]
  },
  {
   "cell_type": "code",
   "execution_count": 7,
   "id": "43b10e8d-3986-489e-8c3d-5be9b8bb1710",
   "metadata": {},
   "outputs": [
    {
     "name": "stdout",
     "output_type": "stream",
     "text": [
      "dataframe shape: (2083180, 11)\n",
      "\n",
      "dataframe info: \n",
      "<class 'pandas.core.frame.DataFrame'>\n",
      "RangeIndex: 2083180 entries, 0 to 2083179\n",
      "Data columns (total 11 columns):\n",
      " #   Column       Dtype         \n",
      "---  ------       -----         \n",
      " 0   ROW_ID       int64         \n",
      " 1   SUBJECT_ID   int64         \n",
      " 2   HADM_ID      float64       \n",
      " 3   CHARTDATE    datetime64[ns]\n",
      " 4   CHARTTIME    datetime64[ns]\n",
      " 5   STORETIME    datetime64[ns]\n",
      " 6   CATEGORY     object        \n",
      " 7   DESCRIPTION  object        \n",
      " 8   CGID         float64       \n",
      " 9   ISERROR      float64       \n",
      " 10  TEXT         object        \n",
      "dtypes: datetime64[ns](3), float64(3), int64(2), object(3)\n",
      "memory usage: 174.8+ MB\n",
      "None\n",
      "\n",
      "First 5 in dataframe\n"
     ]
    },
    {
     "data": {
      "text/html": [
       "<div>\n",
       "<style scoped>\n",
       "    .dataframe tbody tr th:only-of-type {\n",
       "        vertical-align: middle;\n",
       "    }\n",
       "\n",
       "    .dataframe tbody tr th {\n",
       "        vertical-align: top;\n",
       "    }\n",
       "\n",
       "    .dataframe thead th {\n",
       "        text-align: right;\n",
       "    }\n",
       "</style>\n",
       "<table border=\"1\" class=\"dataframe\">\n",
       "  <thead>\n",
       "    <tr style=\"text-align: right;\">\n",
       "      <th></th>\n",
       "      <th>ROW_ID</th>\n",
       "      <th>SUBJECT_ID</th>\n",
       "      <th>HADM_ID</th>\n",
       "      <th>CHARTDATE</th>\n",
       "      <th>CHARTTIME</th>\n",
       "      <th>STORETIME</th>\n",
       "      <th>CATEGORY</th>\n",
       "      <th>DESCRIPTION</th>\n",
       "      <th>CGID</th>\n",
       "      <th>ISERROR</th>\n",
       "      <th>TEXT</th>\n",
       "    </tr>\n",
       "  </thead>\n",
       "  <tbody>\n",
       "    <tr>\n",
       "      <th>0</th>\n",
       "      <td>174</td>\n",
       "      <td>22532</td>\n",
       "      <td>167853.0</td>\n",
       "      <td>2151-08-04</td>\n",
       "      <td>NaT</td>\n",
       "      <td>NaT</td>\n",
       "      <td>Discharge summary</td>\n",
       "      <td>Report</td>\n",
       "      <td>NaN</td>\n",
       "      <td>NaN</td>\n",
       "      <td>Admission Date:  [**2151-7-16**]       Dischar...</td>\n",
       "    </tr>\n",
       "    <tr>\n",
       "      <th>1</th>\n",
       "      <td>175</td>\n",
       "      <td>13702</td>\n",
       "      <td>107527.0</td>\n",
       "      <td>2118-06-14</td>\n",
       "      <td>NaT</td>\n",
       "      <td>NaT</td>\n",
       "      <td>Discharge summary</td>\n",
       "      <td>Report</td>\n",
       "      <td>NaN</td>\n",
       "      <td>NaN</td>\n",
       "      <td>Admission Date:  [**2118-6-2**]       Discharg...</td>\n",
       "    </tr>\n",
       "    <tr>\n",
       "      <th>2</th>\n",
       "      <td>176</td>\n",
       "      <td>13702</td>\n",
       "      <td>167118.0</td>\n",
       "      <td>2119-05-25</td>\n",
       "      <td>NaT</td>\n",
       "      <td>NaT</td>\n",
       "      <td>Discharge summary</td>\n",
       "      <td>Report</td>\n",
       "      <td>NaN</td>\n",
       "      <td>NaN</td>\n",
       "      <td>Admission Date:  [**2119-5-4**]              D...</td>\n",
       "    </tr>\n",
       "    <tr>\n",
       "      <th>3</th>\n",
       "      <td>177</td>\n",
       "      <td>13702</td>\n",
       "      <td>196489.0</td>\n",
       "      <td>2124-08-18</td>\n",
       "      <td>NaT</td>\n",
       "      <td>NaT</td>\n",
       "      <td>Discharge summary</td>\n",
       "      <td>Report</td>\n",
       "      <td>NaN</td>\n",
       "      <td>NaN</td>\n",
       "      <td>Admission Date:  [**2124-7-21**]              ...</td>\n",
       "    </tr>\n",
       "    <tr>\n",
       "      <th>4</th>\n",
       "      <td>178</td>\n",
       "      <td>26880</td>\n",
       "      <td>135453.0</td>\n",
       "      <td>2162-03-25</td>\n",
       "      <td>NaT</td>\n",
       "      <td>NaT</td>\n",
       "      <td>Discharge summary</td>\n",
       "      <td>Report</td>\n",
       "      <td>NaN</td>\n",
       "      <td>NaN</td>\n",
       "      <td>Admission Date:  [**2162-3-3**]              D...</td>\n",
       "    </tr>\n",
       "  </tbody>\n",
       "</table>\n",
       "</div>"
      ],
      "text/plain": [
       "   ROW_ID  SUBJECT_ID   HADM_ID  CHARTDATE CHARTTIME STORETIME  \\\n",
       "0     174       22532  167853.0 2151-08-04       NaT       NaT   \n",
       "1     175       13702  107527.0 2118-06-14       NaT       NaT   \n",
       "2     176       13702  167118.0 2119-05-25       NaT       NaT   \n",
       "3     177       13702  196489.0 2124-08-18       NaT       NaT   \n",
       "4     178       26880  135453.0 2162-03-25       NaT       NaT   \n",
       "\n",
       "            CATEGORY DESCRIPTION  CGID  ISERROR  \\\n",
       "0  Discharge summary      Report   NaN      NaN   \n",
       "1  Discharge summary      Report   NaN      NaN   \n",
       "2  Discharge summary      Report   NaN      NaN   \n",
       "3  Discharge summary      Report   NaN      NaN   \n",
       "4  Discharge summary      Report   NaN      NaN   \n",
       "\n",
       "                                                TEXT  \n",
       "0  Admission Date:  [**2151-7-16**]       Dischar...  \n",
       "1  Admission Date:  [**2118-6-2**]       Discharg...  \n",
       "2  Admission Date:  [**2119-5-4**]              D...  \n",
       "3  Admission Date:  [**2124-7-21**]              ...  \n",
       "4  Admission Date:  [**2162-3-3**]              D...  "
      ]
     },
     "metadata": {},
     "output_type": "display_data"
    },
    {
     "name": "stdout",
     "output_type": "stream",
     "text": [
      "\n",
      "Last 5 in dataframe\n"
     ]
    },
    {
     "data": {
      "text/html": [
       "<div>\n",
       "<style scoped>\n",
       "    .dataframe tbody tr th:only-of-type {\n",
       "        vertical-align: middle;\n",
       "    }\n",
       "\n",
       "    .dataframe tbody tr th {\n",
       "        vertical-align: top;\n",
       "    }\n",
       "\n",
       "    .dataframe thead th {\n",
       "        text-align: right;\n",
       "    }\n",
       "</style>\n",
       "<table border=\"1\" class=\"dataframe\">\n",
       "  <thead>\n",
       "    <tr style=\"text-align: right;\">\n",
       "      <th></th>\n",
       "      <th>ROW_ID</th>\n",
       "      <th>SUBJECT_ID</th>\n",
       "      <th>HADM_ID</th>\n",
       "      <th>CHARTDATE</th>\n",
       "      <th>CHARTTIME</th>\n",
       "      <th>STORETIME</th>\n",
       "      <th>CATEGORY</th>\n",
       "      <th>DESCRIPTION</th>\n",
       "      <th>CGID</th>\n",
       "      <th>ISERROR</th>\n",
       "      <th>TEXT</th>\n",
       "    </tr>\n",
       "  </thead>\n",
       "  <tbody>\n",
       "    <tr>\n",
       "      <th>2083175</th>\n",
       "      <td>2070657</td>\n",
       "      <td>31097</td>\n",
       "      <td>115637.0</td>\n",
       "      <td>2132-01-21</td>\n",
       "      <td>2132-01-21 03:27:00</td>\n",
       "      <td>2132-01-21 03:38:00</td>\n",
       "      <td>Nursing/other</td>\n",
       "      <td>Report</td>\n",
       "      <td>17581.0</td>\n",
       "      <td>NaN</td>\n",
       "      <td>NPN\\n\\n\\n#1  Infant remains in RA with O2 sats...</td>\n",
       "    </tr>\n",
       "    <tr>\n",
       "      <th>2083176</th>\n",
       "      <td>2070658</td>\n",
       "      <td>31097</td>\n",
       "      <td>115637.0</td>\n",
       "      <td>2132-01-21</td>\n",
       "      <td>2132-01-21 09:50:00</td>\n",
       "      <td>2132-01-21 09:53:00</td>\n",
       "      <td>Nursing/other</td>\n",
       "      <td>Report</td>\n",
       "      <td>19211.0</td>\n",
       "      <td>NaN</td>\n",
       "      <td>Neonatology\\nDOL #5, CGA 36 weeks.\\n\\nCVR: Con...</td>\n",
       "    </tr>\n",
       "    <tr>\n",
       "      <th>2083177</th>\n",
       "      <td>2070659</td>\n",
       "      <td>31097</td>\n",
       "      <td>115637.0</td>\n",
       "      <td>2132-01-21</td>\n",
       "      <td>2132-01-21 16:42:00</td>\n",
       "      <td>2132-01-21 16:44:00</td>\n",
       "      <td>Nursing/other</td>\n",
       "      <td>Report</td>\n",
       "      <td>20104.0</td>\n",
       "      <td>NaN</td>\n",
       "      <td>Family Meeting Note\\nFamily meeting held with ...</td>\n",
       "    </tr>\n",
       "    <tr>\n",
       "      <th>2083178</th>\n",
       "      <td>2070660</td>\n",
       "      <td>31097</td>\n",
       "      <td>115637.0</td>\n",
       "      <td>2132-01-21</td>\n",
       "      <td>2132-01-21 18:05:00</td>\n",
       "      <td>2132-01-21 18:16:00</td>\n",
       "      <td>Nursing/other</td>\n",
       "      <td>Report</td>\n",
       "      <td>16023.0</td>\n",
       "      <td>NaN</td>\n",
       "      <td>NPN 1800\\n\\n\\n#1 Resp: [**Known lastname 2243*...</td>\n",
       "    </tr>\n",
       "    <tr>\n",
       "      <th>2083179</th>\n",
       "      <td>2070661</td>\n",
       "      <td>31097</td>\n",
       "      <td>115637.0</td>\n",
       "      <td>2132-01-21</td>\n",
       "      <td>2132-01-21 18:05:00</td>\n",
       "      <td>2132-01-21 18:31:00</td>\n",
       "      <td>Nursing/other</td>\n",
       "      <td>Report</td>\n",
       "      <td>16023.0</td>\n",
       "      <td>NaN</td>\n",
       "      <td>NPN 1800\\nNursing Addendum:\\n[**Known lastname...</td>\n",
       "    </tr>\n",
       "  </tbody>\n",
       "</table>\n",
       "</div>"
      ],
      "text/plain": [
       "          ROW_ID  SUBJECT_ID   HADM_ID  CHARTDATE           CHARTTIME  \\\n",
       "2083175  2070657       31097  115637.0 2132-01-21 2132-01-21 03:27:00   \n",
       "2083176  2070658       31097  115637.0 2132-01-21 2132-01-21 09:50:00   \n",
       "2083177  2070659       31097  115637.0 2132-01-21 2132-01-21 16:42:00   \n",
       "2083178  2070660       31097  115637.0 2132-01-21 2132-01-21 18:05:00   \n",
       "2083179  2070661       31097  115637.0 2132-01-21 2132-01-21 18:05:00   \n",
       "\n",
       "                  STORETIME       CATEGORY DESCRIPTION     CGID  ISERROR  \\\n",
       "2083175 2132-01-21 03:38:00  Nursing/other      Report  17581.0      NaN   \n",
       "2083176 2132-01-21 09:53:00  Nursing/other      Report  19211.0      NaN   \n",
       "2083177 2132-01-21 16:44:00  Nursing/other      Report  20104.0      NaN   \n",
       "2083178 2132-01-21 18:16:00  Nursing/other      Report  16023.0      NaN   \n",
       "2083179 2132-01-21 18:31:00  Nursing/other      Report  16023.0      NaN   \n",
       "\n",
       "                                                      TEXT  \n",
       "2083175  NPN\\n\\n\\n#1  Infant remains in RA with O2 sats...  \n",
       "2083176  Neonatology\\nDOL #5, CGA 36 weeks.\\n\\nCVR: Con...  \n",
       "2083177  Family Meeting Note\\nFamily meeting held with ...  \n",
       "2083178  NPN 1800\\n\\n\\n#1 Resp: [**Known lastname 2243*...  \n",
       "2083179  NPN 1800\\nNursing Addendum:\\n[**Known lastname...  "
      ]
     },
     "metadata": {},
     "output_type": "display_data"
    }
   ],
   "source": [
    "DataUtils.exploreDataframe(notesDF)"
   ]
  },
  {
   "cell_type": "code",
   "execution_count": 11,
   "id": "53937c85-def3-4765-9560-1b9ba865b8b4",
   "metadata": {},
   "outputs": [
    {
     "name": "stdout",
     "output_type": "stream",
     "text": [
      "Data type of column [HADM_ID] is: float64\n",
      "Total number of rows: 2083180\n",
      "Unique values: 58362\n",
      "List of unique values:\n",
      "[167853. 107527. 167118. ... 132855. 115098. 175166.]\n",
      "\n",
      "Showing top 5 records for HADM_ID by frequency\n",
      "        HADM_ID  record_count\n",
      "10266  117448.0          1233\n",
      "23848  140792.0          1144\n",
      "22421  138363.0          1099\n",
      "44071  175448.0          1084\n",
      "53982  192431.0          1073\n",
      "\n",
      "Showing bottom 5 records for HADM_ID by frequency\n",
      "        HADM_ID  record_count\n",
      "29180  149973.0             1\n",
      "56293  196399.0             1\n",
      "38232  165601.0             1\n",
      "38166  165500.0             1\n",
      "38108  165375.0             1\n"
     ]
    }
   ],
   "source": [
    "DataUtils.showUniqueColVals(notesDF, 'HADM_ID')"
   ]
  },
  {
   "cell_type": "markdown",
   "id": "93befa4c-77d8-4a58-9df8-01b92fc416d8",
   "metadata": {},
   "source": [
    "## D_ICD_DIAGNOSES.csv.gz summary"
   ]
  },
  {
   "cell_type": "code",
   "execution_count": 9,
   "id": "66ef3f70-b9bb-469d-acd5-454dfb6b92e1",
   "metadata": {},
   "outputs": [
    {
     "name": "stdout",
     "output_type": "stream",
     "text": [
      "dataframe shape: (14567, 4)\n",
      "\n",
      "dataframe info: \n",
      "<class 'pandas.core.frame.DataFrame'>\n",
      "RangeIndex: 14567 entries, 0 to 14566\n",
      "Data columns (total 4 columns):\n",
      " #   Column       Non-Null Count  Dtype \n",
      "---  ------       --------------  ----- \n",
      " 0   ROW_ID       14567 non-null  int64 \n",
      " 1   ICD9_CODE    14567 non-null  object\n",
      " 2   SHORT_TITLE  14567 non-null  object\n",
      " 3   LONG_TITLE   14567 non-null  object\n",
      "dtypes: int64(1), object(3)\n",
      "memory usage: 455.3+ KB\n",
      "None\n",
      "\n",
      "First 5 in dataframe\n"
     ]
    },
    {
     "data": {
      "text/html": [
       "<div>\n",
       "<style scoped>\n",
       "    .dataframe tbody tr th:only-of-type {\n",
       "        vertical-align: middle;\n",
       "    }\n",
       "\n",
       "    .dataframe tbody tr th {\n",
       "        vertical-align: top;\n",
       "    }\n",
       "\n",
       "    .dataframe thead th {\n",
       "        text-align: right;\n",
       "    }\n",
       "</style>\n",
       "<table border=\"1\" class=\"dataframe\">\n",
       "  <thead>\n",
       "    <tr style=\"text-align: right;\">\n",
       "      <th></th>\n",
       "      <th>ROW_ID</th>\n",
       "      <th>ICD9_CODE</th>\n",
       "      <th>SHORT_TITLE</th>\n",
       "      <th>LONG_TITLE</th>\n",
       "    </tr>\n",
       "  </thead>\n",
       "  <tbody>\n",
       "    <tr>\n",
       "      <th>0</th>\n",
       "      <td>174</td>\n",
       "      <td>01166</td>\n",
       "      <td>TB pneumonia-oth test</td>\n",
       "      <td>Tuberculous pneumonia [any form], tubercle bac...</td>\n",
       "    </tr>\n",
       "    <tr>\n",
       "      <th>1</th>\n",
       "      <td>175</td>\n",
       "      <td>01170</td>\n",
       "      <td>TB pneumothorax-unspec</td>\n",
       "      <td>Tuberculous pneumothorax, unspecified</td>\n",
       "    </tr>\n",
       "    <tr>\n",
       "      <th>2</th>\n",
       "      <td>176</td>\n",
       "      <td>01171</td>\n",
       "      <td>TB pneumothorax-no exam</td>\n",
       "      <td>Tuberculous pneumothorax, bacteriological or h...</td>\n",
       "    </tr>\n",
       "    <tr>\n",
       "      <th>3</th>\n",
       "      <td>177</td>\n",
       "      <td>01172</td>\n",
       "      <td>TB pneumothorx-exam unkn</td>\n",
       "      <td>Tuberculous pneumothorax, bacteriological or h...</td>\n",
       "    </tr>\n",
       "    <tr>\n",
       "      <th>4</th>\n",
       "      <td>178</td>\n",
       "      <td>01173</td>\n",
       "      <td>TB pneumothorax-micro dx</td>\n",
       "      <td>Tuberculous pneumothorax, tubercle bacilli fou...</td>\n",
       "    </tr>\n",
       "  </tbody>\n",
       "</table>\n",
       "</div>"
      ],
      "text/plain": [
       "   ROW_ID ICD9_CODE               SHORT_TITLE  \\\n",
       "0     174     01166     TB pneumonia-oth test   \n",
       "1     175     01170    TB pneumothorax-unspec   \n",
       "2     176     01171   TB pneumothorax-no exam   \n",
       "3     177     01172  TB pneumothorx-exam unkn   \n",
       "4     178     01173  TB pneumothorax-micro dx   \n",
       "\n",
       "                                          LONG_TITLE  \n",
       "0  Tuberculous pneumonia [any form], tubercle bac...  \n",
       "1              Tuberculous pneumothorax, unspecified  \n",
       "2  Tuberculous pneumothorax, bacteriological or h...  \n",
       "3  Tuberculous pneumothorax, bacteriological or h...  \n",
       "4  Tuberculous pneumothorax, tubercle bacilli fou...  "
      ]
     },
     "metadata": {},
     "output_type": "display_data"
    },
    {
     "name": "stdout",
     "output_type": "stream",
     "text": [
      "\n",
      "Last 5 in dataframe\n"
     ]
    },
    {
     "data": {
      "text/html": [
       "<div>\n",
       "<style scoped>\n",
       "    .dataframe tbody tr th:only-of-type {\n",
       "        vertical-align: middle;\n",
       "    }\n",
       "\n",
       "    .dataframe tbody tr th {\n",
       "        vertical-align: top;\n",
       "    }\n",
       "\n",
       "    .dataframe thead th {\n",
       "        text-align: right;\n",
       "    }\n",
       "</style>\n",
       "<table border=\"1\" class=\"dataframe\">\n",
       "  <thead>\n",
       "    <tr style=\"text-align: right;\">\n",
       "      <th></th>\n",
       "      <th>ROW_ID</th>\n",
       "      <th>ICD9_CODE</th>\n",
       "      <th>SHORT_TITLE</th>\n",
       "      <th>LONG_TITLE</th>\n",
       "    </tr>\n",
       "  </thead>\n",
       "  <tbody>\n",
       "    <tr>\n",
       "      <th>14562</th>\n",
       "      <td>14432</td>\n",
       "      <td>V7399</td>\n",
       "      <td>Scrn unspcf viral dis</td>\n",
       "      <td>Special screening examination for unspecified ...</td>\n",
       "    </tr>\n",
       "    <tr>\n",
       "      <th>14563</th>\n",
       "      <td>14433</td>\n",
       "      <td>V740</td>\n",
       "      <td>Screening for cholera</td>\n",
       "      <td>Screening examination for cholera</td>\n",
       "    </tr>\n",
       "    <tr>\n",
       "      <th>14564</th>\n",
       "      <td>14434</td>\n",
       "      <td>V741</td>\n",
       "      <td>Screening-pulmonary TB</td>\n",
       "      <td>Screening examination for pulmonary tuberculosis</td>\n",
       "    </tr>\n",
       "    <tr>\n",
       "      <th>14565</th>\n",
       "      <td>14435</td>\n",
       "      <td>V742</td>\n",
       "      <td>Screening for leprosy</td>\n",
       "      <td>Screening examination for leprosy (Hansen's di...</td>\n",
       "    </tr>\n",
       "    <tr>\n",
       "      <th>14566</th>\n",
       "      <td>14436</td>\n",
       "      <td>V743</td>\n",
       "      <td>Screening for diphtheria</td>\n",
       "      <td>Screening examination for diphtheria</td>\n",
       "    </tr>\n",
       "  </tbody>\n",
       "</table>\n",
       "</div>"
      ],
      "text/plain": [
       "       ROW_ID ICD9_CODE               SHORT_TITLE  \\\n",
       "14562   14432     V7399     Scrn unspcf viral dis   \n",
       "14563   14433      V740     Screening for cholera   \n",
       "14564   14434      V741    Screening-pulmonary TB   \n",
       "14565   14435      V742     Screening for leprosy   \n",
       "14566   14436      V743  Screening for diphtheria   \n",
       "\n",
       "                                              LONG_TITLE  \n",
       "14562  Special screening examination for unspecified ...  \n",
       "14563                  Screening examination for cholera  \n",
       "14564   Screening examination for pulmonary tuberculosis  \n",
       "14565  Screening examination for leprosy (Hansen's di...  \n",
       "14566               Screening examination for diphtheria  "
      ]
     },
     "metadata": {},
     "output_type": "display_data"
    }
   ],
   "source": [
    "DataUtils.exploreDataframe(D_ICDDiagnosis_DF)"
   ]
  },
  {
   "cell_type": "code",
   "execution_count": 10,
   "id": "5c7ed5af-fa7b-4d96-b66e-dbf3f2511fc4",
   "metadata": {},
   "outputs": [
    {
     "name": "stdout",
     "output_type": "stream",
     "text": [
      "Data type of column [ICD9_CODE] is: object\n",
      "Total number of rows: 14567\n",
      "Unique values: 14567\n",
      "List of unique values:\n",
      "['01166' '01170' '01171' ... 'V741' 'V742' 'V743']\n",
      "\n",
      "Showing top 5 records for ICD9_CODE by frequency\n",
      "     ICD9_CODE  record_count\n",
      "0         0010             1\n",
      "9730     80186             1\n",
      "9704     80154             1\n",
      "9705     80155             1\n",
      "9706     80156             1\n",
      "\n",
      "Showing bottom 5 records for ICD9_CODE by frequency\n",
      "   ICD9_CODE  record_count\n",
      "0       0010             1\n",
      "28      0054             1\n",
      "27      0053             1\n",
      "13     00323             1\n",
      "2       0019             1\n"
     ]
    }
   ],
   "source": [
    "DataUtils.showUniqueColVals(D_ICDDiagnosis_DF, 'ICD9_CODE')"
   ]
  },
  {
   "cell_type": "code",
   "execution_count": null,
   "id": "06300119-bbd5-4a80-8495-0f1cc049d824",
   "metadata": {},
   "outputs": [],
   "source": []
  },
  {
   "cell_type": "markdown",
   "id": "c218916a-7e61-4a5f-865e-57f6d88a5aa3",
   "metadata": {},
   "source": [
    "# Data Exploration"
   ]
  },
  {
   "cell_type": "code",
   "execution_count": null,
   "id": "880759a0-08fe-42be-8ac5-d527bb79ba89",
   "metadata": {},
   "outputs": [],
   "source": [
    "#usedCodes = [414,38,410,424]\n",
    "\n",
    "icddiagFileterDF = icddiagnosisDF.loc[icddiagnosisDF['ICD9_CODE'].str.contains(\"413|38|410|414\", case=False)]"
   ]
  },
  {
   "cell_type": "code",
   "execution_count": null,
   "id": "9e39e270-d8f9-4d56-98e3-c7f5d27fe216",
   "metadata": {},
   "outputs": [],
   "source": [
    "icddiagFileterDF.head(30)"
   ]
  },
  {
   "cell_type": "code",
   "execution_count": null,
   "id": "51139a4d-5291-452d-85b1-c9d5a0087199",
   "metadata": {},
   "outputs": [],
   "source": [
    "diagnosisDF.head()"
   ]
  },
  {
   "cell_type": "code",
   "execution_count": null,
   "id": "1d41693d-635a-406a-ae37-be1c0fac904d",
   "metadata": {},
   "outputs": [],
   "source": [
    "notesDF.head()"
   ]
  },
  {
   "cell_type": "code",
   "execution_count": null,
   "id": "681bb91e-ee15-4244-b434-8e1e9bf0e4a6",
   "metadata": {},
   "outputs": [],
   "source": [
    "# Top 10 ICD9_COD\n",
    "topICD_DF = diagnosisDF.groupby(['ICD9_CODE']).size().to_frame('record_count')\n",
    "topICD_DF.reset_index(inplace=True)\n",
    "topICD_DF = testDF.sort_values(by=['record_count'], ascending=False)\n",
    "topICD_DF.head(10)"
   ]
  },
  {
   "cell_type": "code",
   "execution_count": null,
   "id": "33a9d518-ce7e-4958-961a-104168e80d47",
   "metadata": {},
   "outputs": [],
   "source": [
    "usedCodes = [414,38,410,424]\n",
    "test2DF = testDF[testDF['ICD9_CODE'].isin(usedCodes)]\n",
    "test2DF.head()\n",
    "#df[(df['Salary_in_1000']>=100) & (df['Age']<60) & df['FT_Team'].str.startswith('S')][['Name','Age','Salary_in_1000']]"
   ]
  },
  {
   "cell_type": "code",
   "execution_count": null,
   "id": "70b85400-e004-406a-adba-c766d2e21369",
   "metadata": {},
   "outputs": [],
   "source": []
  },
  {
   "cell_type": "code",
   "execution_count": null,
   "id": "6d39b945-2479-436c-8032-47d6300fe678",
   "metadata": {},
   "outputs": [],
   "source": []
  },
  {
   "cell_type": "code",
   "execution_count": null,
   "id": "68c07ec9-3c03-464b-aaaa-c2d0af1368ae",
   "metadata": {},
   "outputs": [],
   "source": []
  }
 ],
 "metadata": {
  "kernelspec": {
   "display_name": "ML1010_env2",
   "language": "python",
   "name": "ml1010_env2"
  },
  "language_info": {
   "codemirror_mode": {
    "name": "ipython",
    "version": 3
   },
   "file_extension": ".py",
   "mimetype": "text/x-python",
   "name": "python",
   "nbconvert_exporter": "python",
   "pygments_lexer": "ipython3",
   "version": "3.7.13"
  }
 },
 "nbformat": 4,
 "nbformat_minor": 5
}
